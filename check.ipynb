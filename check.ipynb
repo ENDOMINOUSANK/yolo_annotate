{
 "cells": [
  {
   "cell_type": "code",
   "execution_count": 11,
   "metadata": {},
   "outputs": [
    {
     "name": "stdout",
     "output_type": "stream",
     "text": [
      "All files are present.\n"
     ]
    }
   ],
   "source": [
    "import os\n",
    "\n",
    "def check_missing_files(annotation_file, image_folder):\n",
    "    missing_files = []\n",
    "    \n",
    "    with open(annotation_file, 'r') as file:\n",
    "        for line in file:\n",
    "            image_name = line.split()[0]\n",
    "            image_path = os.path.join(image_folder, image_name)\n",
    "            if not os.path.isfile(image_path):\n",
    "                missing_files.append(image_name)\n",
    "    \n",
    "    if missing_files:\n",
    "        print(\"Missing files:\")\n",
    "        for missing_file in missing_files:\n",
    "            print(missing_file)\n",
    "    else:\n",
    "        print(\"All files are present.\")\n",
    "\n",
    "# Example usage\n",
    "annotation_file = r'D:\\Work\\field-app\\1main\\Annote\\yolo_annotate\\training_data_ankit\\training_data\\Dryer_training\\Prod Temp\\annotations.txt'\n",
    "image_folder = r'D:\\Work\\field-app\\1main\\Annote\\yolo_annotate\\training_data_ankit\\training_data\\Dryer_training\\Prod Temp'\n",
    "check_missing_files(annotation_file, image_folder)"
   ]
  },
  {
   "cell_type": "code",
   "execution_count": 12,
   "metadata": {},
   "outputs": [
    {
     "name": "stdout",
     "output_type": "stream",
     "text": [
      "Class counts:\n",
      "Class 1: 42\n",
      "Class 3: 65\n",
      "Class 0: 22\n",
      "Class 2: 86\n",
      "Class 9: 84\n",
      "Class 4: 23\n",
      "Class 7: 9\n",
      "Class 5: 31\n",
      "Class 6: 15\n",
      "Class 8: 4\n"
     ]
    }
   ],
   "source": [
    "def count_classes(annotation_file):\n",
    "    class_counts = {}\n",
    "\n",
    "    with open(annotation_file, 'r') as file:\n",
    "        for line in file:\n",
    "            parts = line.strip().split()\n",
    "            for part in parts[1:]:\n",
    "                class_label = part.split(',')[-1]\n",
    "                if class_label in class_counts:\n",
    "                    class_counts[class_label] += 1\n",
    "                else:\n",
    "                    class_counts[class_label] = 1\n",
    "\n",
    "    print(\"Class counts:\")\n",
    "    for class_label, count in class_counts.items():\n",
    "        print(f\"Class {class_label}: {count}\")\n",
    "\n",
    "# Example usage\n",
    "annotation_file = r'D:\\Work\\field-app\\1main\\Annote\\yolo_annotate\\training_data_ankit\\training_data\\Dryer_training\\Prod Temp\\annotations.txt'\n",
    "\n",
    "\n",
    "count_classes(annotation_file)"
   ]
  },
  {
   "cell_type": "code",
   "execution_count": 14,
   "metadata": {},
   "outputs": [
    {
     "name": "stdout",
     "output_type": "stream",
     "text": [
      "The following 15 .jpg files will be deleted:\n",
      "20250215_005108.jpg\n",
      "20250215_005130.jpg\n",
      "20250215_005145.jpg\n",
      "20250215_005201.jpg\n",
      "20250215_005214.jpg\n",
      "20250215_005229.jpg\n",
      "20250215_005242.jpg\n",
      "20250215_005256.jpg\n",
      "20250215_005308.jpg\n",
      "20250215_005322.jpg\n",
      "20250215_005335.jpg\n",
      "20250215_005405.jpg\n",
      "20250215_005422.jpg\n",
      "20250215_005538.jpg\n",
      "20250215_005949.jpg\n",
      "Files deleted.\n"
     ]
    }
   ],
   "source": [
    "import os\n",
    "\n",
    "def delete_unlisted_files(annotation_file, image_folder):\n",
    "    listed_files = set()\n",
    "    \n",
    "    # Read the annotation file and collect listed file names\n",
    "    with open(annotation_file, 'r') as file:\n",
    "        for line in file:\n",
    "            image_name = line.split()[0]\n",
    "            listed_files.add(image_name)\n",
    "    \n",
    "    # Collect .jpg files in the image folder that are not listed\n",
    "    files_to_delete = []\n",
    "    for file_name in os.listdir(image_folder):\n",
    "        if file_name.endswith('.jpg') and file_name not in listed_files:\n",
    "            files_to_delete.append(file_name)\n",
    "    \n",
    "    # Prompt for confirmation before deletion\n",
    "    if files_to_delete:\n",
    "        print(f\"The following {len(files_to_delete)} .jpg files will be deleted:\")\n",
    "        for file_name in files_to_delete:\n",
    "            print(file_name)\n",
    "        \n",
    "        confirm = input(\"Do you want to proceed with deletion? (yes/no): \")\n",
    "        if confirm.lower() == 'yes':\n",
    "            for file_name in files_to_delete:\n",
    "                os.remove(os.path.join(image_folder, file_name))\n",
    "            print(\"Files deleted.\")\n",
    "        else:\n",
    "            print(\"Deletion aborted.\")\n",
    "    else:\n",
    "        print(\"No unlisted .jpg files found.\")\n",
    "\n",
    "# Example usage\n",
    "annotation_file = r'D:\\Work\\field-app\\1main\\Annote\\yolo_annotate\\training_data_ankit\\training_data\\Dryer_training\\Prod Temp\\annotations.txt'\n",
    "image_folder = r'D:\\Work\\field-app\\1main\\Annote\\yolo_annotate\\training_data_ankit\\training_data\\Dryer_training\\Prod Temp'\n",
    "delete_unlisted_files(annotation_file, image_folder)"
   ]
  },
  {
   "cell_type": "code",
   "execution_count": 18,
   "metadata": {},
   "outputs": [
    {
     "name": "stdout",
     "output_type": "stream",
     "text": [
      "Data successfully converted to YOLO format.\n"
     ]
    }
   ],
   "source": [
    "import os\n",
    "import cv2\n",
    "\n",
    "# Paths for input and output\n",
    "annotation_file = r'D:\\Work\\field-app\\1main\\Annote\\yolo_annotate\\training_data_ankit\\training_data\\Extruder_training\\annotations.txt' # Replace with your path\n",
    "images_output_dir = \"dataset_15_feb_ank_3/train/images\"\n",
    "labels_output_dir = \"dataset_15_feb_ank_3/train/labels\"\n",
    "\n",
    "os.makedirs(images_output_dir, exist_ok=True)\n",
    "os.makedirs(labels_output_dir, exist_ok=True)\n",
    "\n",
    "def process_annotations():\n",
    "    with open(annotation_file, \"r\") as file:\n",
    "        for line in file:\n",
    "            # Split line and identify image path by .jpg\n",
    "            parts = line.strip().split()\n",
    "            img_path = None\n",
    "            \n",
    "            for i, part in enumerate(parts):\n",
    "                if part.endswith(\".jpg\"):\n",
    "                    img_path = \" \".join(parts[:i + 1])\n",
    "                    annotations = parts[i + 1:]\n",
    "                    break\n",
    "            \n",
    "            if not img_path:\n",
    "                print(\"No valid image path found in line.\")\n",
    "                continue\n",
    "\n",
    "            frames_base_dir = r\"D:\\Work\\field-app\\1main\\Annote\\yolo_annotate\\training_data_ankit\\training_data\\Extruder_training\"\n",
    "            img_path = os.path.join(frames_base_dir, img_path.strip())\n",
    "\n",
    "            # Load image to get dimensions\n",
    "            img = cv2.imread(img_path)\n",
    "            if img is None:\n",
    "                print(f\"Image not found or unreadable: {img_path}\")\n",
    "                continue\n",
    "\n",
    "            img_height, img_width = img.shape[:2]\n",
    "\n",
    "            # Copy image to the target directory\n",
    "            image_name = os.path.basename(img_path)\n",
    "            target_image_path = os.path.join(images_output_dir, image_name)\n",
    "            cv2.imwrite(target_image_path, img)\n",
    "\n",
    "            # Prepare YOLO annotation file\n",
    "            label_file_path = os.path.join(labels_output_dir, os.path.splitext(image_name)[0] + \".txt\")\n",
    "            with open(label_file_path, \"w\") as lbl_file:\n",
    "                for annotation in annotations:\n",
    "                    x1, y1, x2, y2, class_id = map(int, annotation.split(\",\"))\n",
    "\n",
    "                    # Normalize coordinates\n",
    "                    x_center = ((x1 + x2) / 2) / img_width\n",
    "                    y_center = ((y1 + y2) / 2) / img_height\n",
    "                    width = (x2 - x1) / img_width\n",
    "                    height = (y2 - y1) / img_height\n",
    "\n",
    "                    # Write annotation in YOLO format\n",
    "                    lbl_file.write(f\"{class_id} {x_center} {y_center} {width} {height}\\n\")\n",
    "\n",
    "process_annotations()\n",
    "print(\"Data successfully converted to YOLO format.\")"
   ]
  },
  {
   "cell_type": "code",
   "execution_count": null,
   "metadata": {},
   "outputs": [],
   "source": []
  }
 ],
 "metadata": {
  "kernelspec": {
   "display_name": "venv",
   "language": "python",
   "name": "python3"
  },
  "language_info": {
   "codemirror_mode": {
    "name": "ipython",
    "version": 3
   },
   "file_extension": ".py",
   "mimetype": "text/x-python",
   "name": "python",
   "nbconvert_exporter": "python",
   "pygments_lexer": "ipython3",
   "version": "3.10.16"
  }
 },
 "nbformat": 4,
 "nbformat_minor": 2
}
